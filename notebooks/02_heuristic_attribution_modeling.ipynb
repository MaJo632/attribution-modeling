{
 "cells": [
  {
   "cell_type": "markdown",
   "metadata": {},
   "source": [
    "Restarted .venv (Python 3.11.3)"
   ]
  },
  {
   "cell_type": "markdown",
   "id": "1ad8cddd",
   "metadata": {},
   "source": [
    "## Multi Touch Attribution - Heuristic Models"
   ]
  },
  {
   "cell_type": "code",
   "execution_count": 5,
   "id": "2e163ee0-4a4d-4891-8ac2-2ae50f8c2ad2",
   "metadata": {},
   "outputs": [],
   "source": [
    "#Importing relevant libraries\n",
    "import pandas as pd\n",
    "from marketing_attribution_models import MAM\n",
    "import matplotlib as plt"
   ]
  },
  {
   "cell_type": "code",
   "execution_count": 2,
   "id": "bd837385",
   "metadata": {},
   "outputs": [],
   "source": [
    "df = pd.read_csv(\"../data/processed/pcb_subset.csv\")"
   ]
  },
  {
   "cell_type": "code",
   "execution_count": 4,
   "id": "0695ee47",
   "metadata": {},
   "outputs": [
    {
     "name": "stdout",
     "output_type": "stream",
     "text": [
      "First-Touch:\n",
      " 0                   [1, 0]\n",
      "1                   [1, 0]\n",
      "2                [1, 0, 0]\n",
      "3          [1, 0, 0, 0, 0]\n",
      "4       [1, 0, 0, 0, 0, 0]\n",
      "               ...        \n",
      "2842       [1, 0, 0, 0, 0]\n",
      "2843       [1, 0, 0, 0, 0]\n",
      "2844                [1, 0]\n",
      "2845    [1, 0, 0, 0, 0, 0]\n",
      "2846    [1, 0, 0, 0, 0, 0]\n",
      "Length: 2847, dtype: object\n",
      "\n",
      "Last-Touch:\n",
      " 0                   [0, 1]\n",
      "1                   [0, 1]\n",
      "2                [0, 0, 1]\n",
      "3          [0, 0, 0, 0, 1]\n",
      "4       [0, 0, 0, 0, 0, 1]\n",
      "               ...        \n",
      "2842       [0, 0, 0, 0, 1]\n",
      "2843       [0, 0, 0, 0, 1]\n",
      "2844                [0, 1]\n",
      "2845    [0, 0, 0, 0, 0, 1]\n",
      "2846    [0, 0, 0, 0, 0, 1]\n",
      "Length: 2847, dtype: object\n",
      "\n",
      "Linear:\n",
      " 0                                              [0.5, 0.5]\n",
      "1                                              [0.5, 0.5]\n",
      "2       [0.3333333333333333, 0.3333333333333333, 0.333...\n",
      "3                               [0.2, 0.2, 0.2, 0.2, 0.2]\n",
      "4       [0.16666666666666666, 0.16666666666666666, 0.1...\n",
      "                              ...                        \n",
      "2842                            [0.2, 0.2, 0.2, 0.2, 0.2]\n",
      "2843                            [0.2, 0.2, 0.2, 0.2, 0.2]\n",
      "2844                                           [0.5, 0.5]\n",
      "2845    [0.16666666666666666, 0.16666666666666666, 0.1...\n",
      "2846    [0.16666666666666666, 0.16666666666666666, 0.1...\n",
      "Length: 2847, dtype: object\n"
     ]
    },
    {
     "name": "stderr",
     "output_type": "stream",
     "text": [
      "c:\\Users\\Maria\\Desktop\\ds_projects\\attribution\\.venv\\Lib\\site-packages\\marketing_attribution_models\\MAM.py:416: SettingWithCopyWarning: \n",
      "A value is trying to be set on a copy of a slice from a DataFrame.\n",
      "Try using .loc[row_indexer,col_indexer] = value instead\n",
      "\n",
      "See the caveats in the documentation: https://pandas.pydata.org/pandas-docs/stable/user_guide/indexing.html#returning-a-view-versus-a-copy\n",
      "  self.data_frame[\"channels_agg\"] = self.channels.apply(self.sep.join)\n",
      "c:\\Users\\Maria\\Desktop\\ds_projects\\attribution\\.venv\\Lib\\site-packages\\marketing_attribution_models\\MAM.py:417: SettingWithCopyWarning: \n",
      "A value is trying to be set on a copy of a slice from a DataFrame.\n",
      "Try using .loc[row_indexer,col_indexer] = value instead\n",
      "\n",
      "See the caveats in the documentation: https://pandas.pydata.org/pandas-docs/stable/user_guide/indexing.html#returning-a-view-versus-a-copy\n",
      "  self.data_frame[\"converted_agg\"] = self.journey_with_conv\n"
     ]
    }
   ],
   "source": [
    "# 2) MAM initialisieren ohne Zeit-Grouping\n",
    "attributions = MAM(\n",
    "    df,\n",
    "    channels_colname=\"path\",                       # deine Journey-Strings\n",
    "    journey_with_conv_colname=\"conversion\",        # 0/1-Flag\n",
    "    group_channels=False,                          # KEINE Zeit-Sortierung\n",
    "    create_journey_id_based_on_conversion=True\n",
    ")\n",
    "\n",
    "# 3) Heuristische Modelle ausführen\n",
    "first_touch, _ = attributions.attribution_first_click()\n",
    "last_touch,  _ = attributions.attribution_last_click()\n",
    "linear,      _ = attributions.attribution_linear()\n",
    "\n",
    "# 4) Ergebnisse zusammenführen und anzeigen\n",
    "#    Jeder ist ein DataFrame mit Spalte \"channel\" und \"attributed_value\"\n",
    "print(\"First-Touch:\\n\", first_touch)\n",
    "print(\"\\nLast-Touch:\\n\",  last_touch)\n",
    "print(\"\\nLinear:\\n\",      linear)\n",
    "\n",
    "# 5) Optional: in CSV speichern\n",
    "first_touch.to_csv(\"../data/processed/attrib_first_touch.csv\", index=False)\n",
    "last_touch.to_csv( \"../data/processed/attrib_last_touch.csv\",  index=False)\n",
    "linear.to_csv(    \"../data/processed/attrib_linear.csv\",      index=False)"
   ]
  },
  {
   "cell_type": "code",
   "execution_count": 8,
   "id": "75a0ce9d",
   "metadata": {},
   "outputs": [
    {
     "ename": "TypeError",
     "evalue": "'module' object is not callable",
     "output_type": "error",
     "traceback": [
      "\u001b[31m---------------------------------------------------------------------------\u001b[39m",
      "\u001b[31mTypeError\u001b[39m                                 Traceback (most recent call last)",
      "\u001b[36mCell\u001b[39m\u001b[36m \u001b[39m\u001b[32mIn[8]\u001b[39m\u001b[32m, line 7\u001b[39m\n\u001b[32m      4\u001b[39m linear = pd.read_csv(\u001b[33m\"\u001b[39m\u001b[33m../data/processed/attrib_linear.csv\u001b[39m\u001b[33m\"\u001b[39m)\n\u001b[32m      6\u001b[39m \u001b[38;5;66;03m# First-Touch Attribution\u001b[39;00m\n\u001b[32m----> \u001b[39m\u001b[32m7\u001b[39m \u001b[43mplt\u001b[49m\u001b[43m.\u001b[49m\u001b[43mfigure\u001b[49m\u001b[43m(\u001b[49m\u001b[43m)\u001b[49m\n\u001b[32m      8\u001b[39m plt.bar(first[\u001b[33m'\u001b[39m\u001b[33mchannel\u001b[39m\u001b[33m'\u001b[39m], first[\u001b[33m'\u001b[39m\u001b[33mattributed_value\u001b[39m\u001b[33m'\u001b[39m])\n\u001b[32m      9\u001b[39m plt.xlabel(\u001b[33m'\u001b[39m\u001b[33mChannel\u001b[39m\u001b[33m'\u001b[39m)\n",
      "\u001b[31mTypeError\u001b[39m: 'module' object is not callable"
     ]
    }
   ],
   "source": [
    "\n",
    "# CSVs laden\n",
    "first = pd.read_csv(\"../data/processed/attrib_first_touch.csv\")\n",
    "last = pd.read_csv(\"../data/processed/attrib_last_touch.csv\")\n",
    "linear = pd.read_csv(\"../data/processed/attrib_linear.csv\")\n",
    "\n",
    "# First-Touch Attribution\n",
    "plt.figure()\n",
    "plt.bar(first['channel'], first['attributed_value'])\n",
    "plt.xlabel('Channel')\n",
    "plt.ylabel('Attribution Value')\n",
    "plt.title('First-Touch Attribution')\n",
    "plt.xticks(rotation=45, ha='right')\n",
    "plt.tight_layout()\n",
    "plt.show()\n",
    "\n",
    "# Last-Touch Attribution\n",
    "plt.figure()\n",
    "plt.bar(last['channel'], last['attributed_value'])\n",
    "plt.xlabel('Channel')\n",
    "plt.ylabel('Attribution Value')\n",
    "plt.title('Last-Touch Attribution')\n",
    "plt.xticks(rotation=45, ha='right')\n",
    "plt.tight_layout()\n",
    "plt.show()\n",
    "\n",
    "# Linear Attribution\n",
    "plt.figure()\n",
    "plt.bar(linear['channel'], linear['attributed_value'])\n",
    "plt.xlabel('Channel')\n",
    "plt.ylabel('Attribution Value')\n",
    "plt.title('Linear Attribution')\n",
    "plt.xticks(rotation=45, ha='right')\n",
    "plt.tight_layout()\n",
    "plt.show()"
   ]
  }
 ],
 "metadata": {
  "kernelspec": {
   "display_name": ".venv",
   "language": "python",
   "name": "python3"
  },
  "language_info": {
   "codemirror_mode": {
    "name": "ipython",
    "version": 3
   },
   "file_extension": ".py",
   "mimetype": "text/x-python",
   "name": "python",
   "nbconvert_exporter": "python",
   "pygments_lexer": "ipython3",
   "version": "3.11.3"
  }
 },
 "nbformat": 4,
 "nbformat_minor": 5
}

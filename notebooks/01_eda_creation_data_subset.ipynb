{
 "cells": [
  {
   "attachments": {},
   "cell_type": "markdown",
   "id": "2e49cd26",
   "metadata": {},
   "source": [
    "# Criteo Attribution Modeling for Bidding (EDA)"
   ]
  },
  {
   "cell_type": "markdown",
   "id": "38a0e796",
   "metadata": {},
   "source": [
    "## 1. Goal of the project\n"
   ]
  },
  {
   "cell_type": "markdown",
   "id": "1f1d3e9f",
   "metadata": {},
   "source": [
    "## 2. Overview data\n",
    "This notebook analyses the data retrieved from [Kaggle](https://www.kaggle.com/datasets/sharatsachin/criteo-attribution-modeling/data). The dataset represents a sample of 30 days of Criteo live traffic data. Each line corresponds to one impression (a banner) that was displayed to a user and if it was clicked, led to a conversion and if it was attributed to Criteo.\n",
    "\n",
    "Columns of the dataset from [Kaggle](https://www.kaggle.com/datasets/sharatsachin/criteo-attribution-modeling)\n",
    "- **timestamp**: timestamp of the impression (starting from 0 for the first impression). The dataset is sorted according to timestamp.  \n",
    "- **uid**: a unique user identifier  \n",
    "- **campaign**: a unique identifier for the campaign  \n",
    "- **conversion 1**: if there was a conversion in the 30 days after the impression (independently of whether this impression was last click or not)  \n",
    "- **conversion_timestamp**: the timestamp of the conversion or -1 if no conversion was observed\n",
    "conversion_id a unique identifier for each conversion (so that timelines can be reconstructed if needed). -1 if there was no conversion  \n",
    "- **attribution 1**: if the conversion was attributed to Criteo, 0 otherwise  \n",
    "- **click 1**: if the impression was clicked, 0 otherwise  \n",
    "- **click_pos**: the position of the click before a conversion (0 for first-click)  \n",
    "- **click_nb**: number of clicks. More than 1 if there was several clicks before a conversion  \n",
    "- **cost**: the price paid by Criteo for this display (disclaimer: not the real price, only a transformed version of it)  \n",
    "- **cpo**: the cost-per-order in case of attributed conversion (disclaimer: not the real price, only a transformed version of it)  \n",
    "- **time_since_last_click**: the time since the last click (in s) for the given impression  \n",
    "- **cat[1-9]**: contextual features associated to the display. Can be used to learn the click/conversion models. We do not disclose the meaning of these features but it is not relevant for this study. Each column is a categorical variable. In the experiments, they are mapped to a fixed dimensionality space using the Hashing Trick (see paper for reference).  \n",
    "\n",
    "| Column name | Description |\n",
    "| --- | ----------- |\n",
    "| timestamp | Timestamp of the impression (starting from 0 for the first impression). The dataset is sorted according to timestamp.|\n",
    "| uid | Unique user identifier|\n",
    "| campaign | Unique identifier for the campaign|\n",
    "| conversion 1 | If there was a conversion in the 30 days after the impression (independently of whether this impression was last click or not)|\n",
    "| conversion_timestamp | The timestamp of the conversion or -1 if no conversion was observed conversion_id a unique identifier for each conversion (so that timelines can be reconstructed if needed). -1 if there was no conversion |\n",
    "| attribution 1 | If the conversion was attributed to Criteo, 0 otherwise |\n",
    "| click 1 | If the impression was clicked, 0 otherwise |\n",
    "| click_nb | Number of clicks. More than 1 if there was several clicks before a conversion |\n",
    "| cost | The price paid by Criteo for this display (disclaimer: not the real price, only a transformed version of it) |\n",
    "| cpo | The cost-per-order in case of attributed conversion (disclaimer: not the real price, only a transformed version of it) |\n",
    "| time_since_last_click | The time since the last click (in s) for the given impression |\n",
    "| cat[1-9] | Contextual features associated to the display. Can be used to learn the click/conversion models. We do not disclose the meaning of these features but it is not relevant for this study. Each column is a categorical variable. In the experiments, they are mapped to a fixed dimensionality space using the Hashing Trick (see paper for reference). |"
   ]
  },
  {
   "cell_type": "code",
   "execution_count": 22,
   "id": "1811acbe",
   "metadata": {},
   "outputs": [],
   "source": [
    "# import the necessary libraries\n",
    "import pandas as pd\n",
    "import matplotlib.pyplot as plt\n",
    "import seaborn as sns\n",
    "import numpy as np"
   ]
  },
  {
   "cell_type": "code",
   "execution_count": 3,
   "id": "45cc4aef",
   "metadata": {},
   "outputs": [
    {
     "data": {
      "text/html": [
       "<div>\n",
       "<style scoped>\n",
       "    .dataframe tbody tr th:only-of-type {\n",
       "        vertical-align: middle;\n",
       "    }\n",
       "\n",
       "    .dataframe tbody tr th {\n",
       "        vertical-align: top;\n",
       "    }\n",
       "\n",
       "    .dataframe thead th {\n",
       "        text-align: right;\n",
       "    }\n",
       "</style>\n",
       "<table border=\"1\" class=\"dataframe\">\n",
       "  <thead>\n",
       "    <tr style=\"text-align: right;\">\n",
       "      <th></th>\n",
       "      <th>timestamp</th>\n",
       "      <th>uid</th>\n",
       "      <th>campaign</th>\n",
       "      <th>conversion</th>\n",
       "      <th>conversion_timestamp</th>\n",
       "      <th>conversion_id</th>\n",
       "      <th>attribution</th>\n",
       "      <th>click</th>\n",
       "      <th>click_pos</th>\n",
       "      <th>click_nb</th>\n",
       "      <th>...</th>\n",
       "      <th>time_since_last_click</th>\n",
       "      <th>cat1</th>\n",
       "      <th>cat2</th>\n",
       "      <th>cat3</th>\n",
       "      <th>cat4</th>\n",
       "      <th>cat5</th>\n",
       "      <th>cat6</th>\n",
       "      <th>cat7</th>\n",
       "      <th>cat8</th>\n",
       "      <th>cat9</th>\n",
       "    </tr>\n",
       "  </thead>\n",
       "  <tbody>\n",
       "    <tr>\n",
       "      <th>0</th>\n",
       "      <td>0</td>\n",
       "      <td>20073966</td>\n",
       "      <td>22589171</td>\n",
       "      <td>0</td>\n",
       "      <td>-1</td>\n",
       "      <td>-1</td>\n",
       "      <td>0</td>\n",
       "      <td>0</td>\n",
       "      <td>-1</td>\n",
       "      <td>-1</td>\n",
       "      <td>...</td>\n",
       "      <td>-1</td>\n",
       "      <td>5824233</td>\n",
       "      <td>9312274</td>\n",
       "      <td>3490278</td>\n",
       "      <td>29196072</td>\n",
       "      <td>11409686</td>\n",
       "      <td>1973606</td>\n",
       "      <td>25162884</td>\n",
       "      <td>29196072</td>\n",
       "      <td>29196072</td>\n",
       "    </tr>\n",
       "    <tr>\n",
       "      <th>1</th>\n",
       "      <td>2</td>\n",
       "      <td>24607497</td>\n",
       "      <td>884761</td>\n",
       "      <td>0</td>\n",
       "      <td>-1</td>\n",
       "      <td>-1</td>\n",
       "      <td>0</td>\n",
       "      <td>0</td>\n",
       "      <td>-1</td>\n",
       "      <td>-1</td>\n",
       "      <td>...</td>\n",
       "      <td>423858</td>\n",
       "      <td>30763035</td>\n",
       "      <td>9312274</td>\n",
       "      <td>14584482</td>\n",
       "      <td>29196072</td>\n",
       "      <td>11409686</td>\n",
       "      <td>1973606</td>\n",
       "      <td>22644417</td>\n",
       "      <td>9312274</td>\n",
       "      <td>21091111</td>\n",
       "    </tr>\n",
       "    <tr>\n",
       "      <th>2</th>\n",
       "      <td>2</td>\n",
       "      <td>28474333</td>\n",
       "      <td>18975823</td>\n",
       "      <td>0</td>\n",
       "      <td>-1</td>\n",
       "      <td>-1</td>\n",
       "      <td>0</td>\n",
       "      <td>0</td>\n",
       "      <td>-1</td>\n",
       "      <td>-1</td>\n",
       "      <td>...</td>\n",
       "      <td>8879</td>\n",
       "      <td>138937</td>\n",
       "      <td>9312274</td>\n",
       "      <td>10769841</td>\n",
       "      <td>29196072</td>\n",
       "      <td>5824237</td>\n",
       "      <td>138937</td>\n",
       "      <td>1795451</td>\n",
       "      <td>29196072</td>\n",
       "      <td>15351056</td>\n",
       "    </tr>\n",
       "    <tr>\n",
       "      <th>3</th>\n",
       "      <td>3</td>\n",
       "      <td>7306395</td>\n",
       "      <td>29427842</td>\n",
       "      <td>1</td>\n",
       "      <td>1449193</td>\n",
       "      <td>3063962</td>\n",
       "      <td>0</td>\n",
       "      <td>1</td>\n",
       "      <td>0</td>\n",
       "      <td>7</td>\n",
       "      <td>...</td>\n",
       "      <td>-1</td>\n",
       "      <td>28928366</td>\n",
       "      <td>26597095</td>\n",
       "      <td>12435261</td>\n",
       "      <td>23549932</td>\n",
       "      <td>5824237</td>\n",
       "      <td>1973606</td>\n",
       "      <td>9180723</td>\n",
       "      <td>29841067</td>\n",
       "      <td>29196072</td>\n",
       "    </tr>\n",
       "    <tr>\n",
       "      <th>4</th>\n",
       "      <td>3</td>\n",
       "      <td>25357769</td>\n",
       "      <td>13365547</td>\n",
       "      <td>0</td>\n",
       "      <td>-1</td>\n",
       "      <td>-1</td>\n",
       "      <td>0</td>\n",
       "      <td>0</td>\n",
       "      <td>-1</td>\n",
       "      <td>-1</td>\n",
       "      <td>...</td>\n",
       "      <td>-1</td>\n",
       "      <td>138937</td>\n",
       "      <td>26597094</td>\n",
       "      <td>31616034</td>\n",
       "      <td>29196072</td>\n",
       "      <td>11409684</td>\n",
       "      <td>26597096</td>\n",
       "      <td>4480345</td>\n",
       "      <td>29196072</td>\n",
       "      <td>29196072</td>\n",
       "    </tr>\n",
       "  </tbody>\n",
       "</table>\n",
       "<p>5 rows × 22 columns</p>\n",
       "</div>"
      ],
      "text/plain": [
       "   timestamp       uid  campaign  conversion  conversion_timestamp  \\\n",
       "0          0  20073966  22589171           0                    -1   \n",
       "1          2  24607497    884761           0                    -1   \n",
       "2          2  28474333  18975823           0                    -1   \n",
       "3          3   7306395  29427842           1               1449193   \n",
       "4          3  25357769  13365547           0                    -1   \n",
       "\n",
       "   conversion_id  attribution  click  click_pos  click_nb  ...  \\\n",
       "0             -1            0      0         -1        -1  ...   \n",
       "1             -1            0      0         -1        -1  ...   \n",
       "2             -1            0      0         -1        -1  ...   \n",
       "3        3063962            0      1          0         7  ...   \n",
       "4             -1            0      0         -1        -1  ...   \n",
       "\n",
       "   time_since_last_click      cat1      cat2      cat3      cat4      cat5  \\\n",
       "0                     -1   5824233   9312274   3490278  29196072  11409686   \n",
       "1                 423858  30763035   9312274  14584482  29196072  11409686   \n",
       "2                   8879    138937   9312274  10769841  29196072   5824237   \n",
       "3                     -1  28928366  26597095  12435261  23549932   5824237   \n",
       "4                     -1    138937  26597094  31616034  29196072  11409684   \n",
       "\n",
       "       cat6      cat7      cat8      cat9  \n",
       "0   1973606  25162884  29196072  29196072  \n",
       "1   1973606  22644417   9312274  21091111  \n",
       "2    138937   1795451  29196072  15351056  \n",
       "3   1973606   9180723  29841067  29196072  \n",
       "4  26597096   4480345  29196072  29196072  \n",
       "\n",
       "[5 rows x 22 columns]"
      ]
     },
     "execution_count": 3,
     "metadata": {},
     "output_type": "execute_result"
    }
   ],
   "source": [
    "# read in csv file and display first 5 rows of the datset\n",
    "df = pd.read_csv(\"c:/Users/Maria/Desktop/ds_projects/attribution/data/raw/pcb_dataset_final.tsv\", sep='\\t')\n",
    "df.head()"
   ]
  },
  {
   "cell_type": "code",
   "execution_count": 4,
   "id": "852bcda3",
   "metadata": {},
   "outputs": [
    {
     "data": {
      "text/plain": [
       "Index(['timestamp', 'uid', 'campaign', 'conversion', 'conversion_timestamp',\n",
       "       'conversion_id', 'attribution', 'click', 'click_pos', 'click_nb',\n",
       "       'cost', 'cpo', 'time_since_last_click', 'cat1', 'cat2', 'cat3', 'cat4',\n",
       "       'cat5', 'cat6', 'cat7', 'cat8', 'cat9'],\n",
       "      dtype='object')"
      ]
     },
     "execution_count": 4,
     "metadata": {},
     "output_type": "execute_result"
    }
   ],
   "source": [
    "# check which columns are included in our dataframe\n",
    "df.columns"
   ]
  },
  {
   "cell_type": "code",
   "execution_count": 5,
   "id": "af5da427",
   "metadata": {},
   "outputs": [
    {
     "data": {
      "text/plain": [
       "(16468027, 22)"
      ]
     },
     "execution_count": 5,
     "metadata": {},
     "output_type": "execute_result"
    }
   ],
   "source": [
    "# Shape of the dataset\n",
    "df.shape"
   ]
  },
  {
   "cell_type": "code",
   "execution_count": 6,
   "id": "05d19aff",
   "metadata": {},
   "outputs": [
    {
     "name": "stdout",
     "output_type": "stream",
     "text": [
      "<class 'pandas.core.frame.DataFrame'>\n",
      "RangeIndex: 16468027 entries, 0 to 16468026\n",
      "Data columns (total 22 columns):\n",
      " #   Column                 Dtype  \n",
      "---  ------                 -----  \n",
      " 0   timestamp              int64  \n",
      " 1   uid                    int64  \n",
      " 2   campaign               int64  \n",
      " 3   conversion             int64  \n",
      " 4   conversion_timestamp   int64  \n",
      " 5   conversion_id          int64  \n",
      " 6   attribution            int64  \n",
      " 7   click                  int64  \n",
      " 8   click_pos              int64  \n",
      " 9   click_nb               int64  \n",
      " 10  cost                   float64\n",
      " 11  cpo                    float64\n",
      " 12  time_since_last_click  int64  \n",
      " 13  cat1                   int64  \n",
      " 14  cat2                   int64  \n",
      " 15  cat3                   int64  \n",
      " 16  cat4                   int64  \n",
      " 17  cat5                   int64  \n",
      " 18  cat6                   int64  \n",
      " 19  cat7                   int64  \n",
      " 20  cat8                   int64  \n",
      " 21  cat9                   int64  \n",
      "dtypes: float64(2), int64(20)\n",
      "memory usage: 2.7 GB\n"
     ]
    }
   ],
   "source": [
    "# Check out our data-types\n",
    "df.info()"
   ]
  },
  {
   "cell_type": "code",
   "execution_count": 7,
   "id": "a4b78447",
   "metadata": {},
   "outputs": [
    {
     "data": {
      "text/plain": [
       "timestamp                0\n",
       "uid                      0\n",
       "campaign                 0\n",
       "conversion               0\n",
       "conversion_timestamp     0\n",
       "conversion_id            0\n",
       "attribution              0\n",
       "click                    0\n",
       "click_pos                0\n",
       "click_nb                 0\n",
       "cost                     0\n",
       "cpo                      0\n",
       "time_since_last_click    0\n",
       "cat1                     0\n",
       "cat2                     0\n",
       "cat3                     0\n",
       "cat4                     0\n",
       "cat5                     0\n",
       "cat6                     0\n",
       "cat7                     0\n",
       "cat8                     0\n",
       "cat9                     0\n",
       "dtype: int64"
      ]
     },
     "execution_count": 7,
     "metadata": {},
     "output_type": "execute_result"
    }
   ],
   "source": [
    "# Checking for missing values\n",
    "df.isnull().sum()"
   ]
  },
  {
   "cell_type": "code",
   "execution_count": 10,
   "id": "663f6953",
   "metadata": {},
   "outputs": [
    {
     "name": "stdout",
     "output_type": "stream",
     "text": [
      "There are 6142256 unique user ids in the dataset.\n"
     ]
    }
   ],
   "source": [
    "# Checking the number of unique user ids in the whole dataset:\n",
    "unique_uids=df['uid'].unique()\n",
    "print(f\"There are {len(unique_uids)} unique user ids in the dataset.\")"
   ]
  },
  {
   "cell_type": "markdown",
   "id": "68f58635",
   "metadata": {},
   "source": [
    "In order to be able to attribute the conversion success, we focus on those customer journeys which resulted in a conversion."
   ]
  },
  {
   "cell_type": "code",
   "execution_count": 10,
   "id": "ba0cfbec",
   "metadata": {},
   "outputs": [],
   "source": [
    "df_conversions = df[df['conversion']==1].copy()"
   ]
  },
  {
   "cell_type": "markdown",
   "id": "68474dab",
   "metadata": {},
   "source": [
    "For the modeling, it is important to have at least two contacts in order to evaluate different attribution models. So, we analyze the data with regards to the chain length within the customer journey that led to a conversion."
   ]
  },
  {
   "cell_type": "code",
   "execution_count": 31,
   "id": "1228882f",
   "metadata": {},
   "outputs": [
    {
     "data": {
      "image/png": "[encoded data removed]",
      "text/plain": [
       "<Figure size 2000x600 with 1 Axes>"
      ]
     },
     "metadata": {},
     "output_type": "display_data"
    }
   ],
   "source": [
    "chain_lengths = df_conversions['uid'].value_counts()\n",
    "length_distribution = chain_lengths.value_counts().sort_index()\n",
    "\n",
    "plt.figure(figsize=(20,6))\n",
    "sns.barplot(x = length_distribution.index, y = length_distribution.values, palette=\"viridis\")\n",
    "\n",
    "plt.title(\"Distribution of chain length\", fontsize = 14)\n",
    "plt.xlabel(\"Chain length (number of impressions per user)\", fontsize = 12)\n",
    "plt.ylabel(\"Number of users\", fontsize = 12)\n",
    "\n",
    "plt.show()"
   ]
  },
  {
   "cell_type": "markdown",
   "id": "3d7bbbee",
   "metadata": {},
   "source": [
    "The graph shows, that most of the chains have only one contact, so we are reducing the dataset to those customer journeys which had a conversion and at least two impressions in the chain."
   ]
  },
  {
   "cell_type": "markdown",
   "id": "6bdadb1a",
   "metadata": {},
   "source": [
    "## 3. Creating a subset of the dataset"
   ]
  },
  {
   "cell_type": "code",
   "execution_count": 15,
   "id": "abf07dd3",
   "metadata": {},
   "outputs": [],
   "source": [
    "# Creating a subset of the dataframe with these users\n",
    "valid_uids = chain_lengths[chain_lengths >= 2].index\n",
    "df_subset = df_conversions[df_conversions['uid'].isin(valid_uids)].copy()\n",
    "\n",
    "# Dropping the category columns\n",
    "df_subset.drop([\"cat1\",\"cat2\", \"cat3\", \"cat4\", \"cat5\", \"cat6\", \"cat7\", \"cat8\", \"cat9\"], axis=1, inplace=True)"
   ]
  },
  {
   "cell_type": "code",
   "execution_count": 16,
   "id": "6975a6be",
   "metadata": {},
   "outputs": [
    {
     "data": {
      "text/html": [
       "<div>\n",
       "<style scoped>\n",
       "    .dataframe tbody tr th:only-of-type {\n",
       "        vertical-align: middle;\n",
       "    }\n",
       "\n",
       "    .dataframe tbody tr th {\n",
       "        vertical-align: top;\n",
       "    }\n",
       "\n",
       "    .dataframe thead th {\n",
       "        text-align: right;\n",
       "    }\n",
       "</style>\n",
       "<table border=\"1\" class=\"dataframe\">\n",
       "  <thead>\n",
       "    <tr style=\"text-align: right;\">\n",
       "      <th></th>\n",
       "      <th>timestamp</th>\n",
       "      <th>uid</th>\n",
       "      <th>campaign</th>\n",
       "      <th>conversion</th>\n",
       "      <th>conversion_timestamp</th>\n",
       "      <th>conversion_id</th>\n",
       "      <th>attribution</th>\n",
       "      <th>click</th>\n",
       "      <th>click_pos</th>\n",
       "      <th>click_nb</th>\n",
       "      <th>cost</th>\n",
       "      <th>cpo</th>\n",
       "      <th>time_since_last_click</th>\n",
       "    </tr>\n",
       "  </thead>\n",
       "  <tbody>\n",
       "    <tr>\n",
       "      <th>3</th>\n",
       "      <td>3</td>\n",
       "      <td>7306395</td>\n",
       "      <td>29427842</td>\n",
       "      <td>1</td>\n",
       "      <td>1449193</td>\n",
       "      <td>3063962</td>\n",
       "      <td>0</td>\n",
       "      <td>1</td>\n",
       "      <td>0</td>\n",
       "      <td>7</td>\n",
       "      <td>0.000094</td>\n",
       "      <td>0.154785</td>\n",
       "      <td>-1</td>\n",
       "    </tr>\n",
       "    <tr>\n",
       "      <th>25</th>\n",
       "      <td>17</td>\n",
       "      <td>15394453</td>\n",
       "      <td>9100693</td>\n",
       "      <td>1</td>\n",
       "      <td>154</td>\n",
       "      <td>24795488</td>\n",
       "      <td>1</td>\n",
       "      <td>1</td>\n",
       "      <td>0</td>\n",
       "      <td>1</td>\n",
       "      <td>0.001435</td>\n",
       "      <td>0.004617</td>\n",
       "      <td>583864</td>\n",
       "    </tr>\n",
       "    <tr>\n",
       "      <th>44</th>\n",
       "      <td>25</td>\n",
       "      <td>6013772</td>\n",
       "      <td>15184511</td>\n",
       "      <td>1</td>\n",
       "      <td>138469</td>\n",
       "      <td>15587012</td>\n",
       "      <td>0</td>\n",
       "      <td>1</td>\n",
       "      <td>1</td>\n",
       "      <td>6</td>\n",
       "      <td>0.001585</td>\n",
       "      <td>0.005025</td>\n",
       "      <td>536</td>\n",
       "    </tr>\n",
       "    <tr>\n",
       "      <th>52</th>\n",
       "      <td>30</td>\n",
       "      <td>9451380</td>\n",
       "      <td>17321082</td>\n",
       "      <td>1</td>\n",
       "      <td>355909</td>\n",
       "      <td>4136014</td>\n",
       "      <td>0</td>\n",
       "      <td>1</td>\n",
       "      <td>1</td>\n",
       "      <td>3</td>\n",
       "      <td>0.000413</td>\n",
       "      <td>0.324492</td>\n",
       "      <td>363648</td>\n",
       "    </tr>\n",
       "    <tr>\n",
       "      <th>166</th>\n",
       "      <td>93</td>\n",
       "      <td>2380977</td>\n",
       "      <td>32368244</td>\n",
       "      <td>1</td>\n",
       "      <td>1471679</td>\n",
       "      <td>28647208</td>\n",
       "      <td>0</td>\n",
       "      <td>1</td>\n",
       "      <td>5</td>\n",
       "      <td>8</td>\n",
       "      <td>0.001034</td>\n",
       "      <td>0.019889</td>\n",
       "      <td>145936</td>\n",
       "    </tr>\n",
       "  </tbody>\n",
       "</table>\n",
       "</div>"
      ],
      "text/plain": [
       "     timestamp       uid  campaign  conversion  conversion_timestamp  \\\n",
       "3            3   7306395  29427842           1               1449193   \n",
       "25          17  15394453   9100693           1                   154   \n",
       "44          25   6013772  15184511           1                138469   \n",
       "52          30   9451380  17321082           1                355909   \n",
       "166         93   2380977  32368244           1               1471679   \n",
       "\n",
       "     conversion_id  attribution  click  click_pos  click_nb      cost  \\\n",
       "3          3063962            0      1          0         7  0.000094   \n",
       "25        24795488            1      1          0         1  0.001435   \n",
       "44        15587012            0      1          1         6  0.001585   \n",
       "52         4136014            0      1          1         3  0.000413   \n",
       "166       28647208            0      1          5         8  0.001034   \n",
       "\n",
       "          cpo  time_since_last_click  \n",
       "3    0.154785                     -1  \n",
       "25   0.004617                 583864  \n",
       "44   0.005025                    536  \n",
       "52   0.324492                 363648  \n",
       "166  0.019889                 145936  "
      ]
     },
     "execution_count": 16,
     "metadata": {},
     "output_type": "execute_result"
    }
   ],
   "source": [
    "df_subset.head()"
   ]
  },
  {
   "cell_type": "code",
   "execution_count": 18,
   "id": "e0ad5fcd",
   "metadata": {},
   "outputs": [
    {
     "data": {
      "text/plain": [
       "(615305, 13)"
      ]
     },
     "execution_count": 18,
     "metadata": {},
     "output_type": "execute_result"
    }
   ],
   "source": [
    "df_subset.shape"
   ]
  },
  {
   "cell_type": "code",
   "execution_count": 19,
   "id": "6c3165ed",
   "metadata": {},
   "outputs": [
    {
     "data": {
      "text/html": [
       "<div>\n",
       "<style scoped>\n",
       "    .dataframe tbody tr th:only-of-type {\n",
       "        vertical-align: middle;\n",
       "    }\n",
       "\n",
       "    .dataframe tbody tr th {\n",
       "        vertical-align: top;\n",
       "    }\n",
       "\n",
       "    .dataframe thead th {\n",
       "        text-align: right;\n",
       "    }\n",
       "</style>\n",
       "<table border=\"1\" class=\"dataframe\">\n",
       "  <thead>\n",
       "    <tr style=\"text-align: right;\">\n",
       "      <th></th>\n",
       "      <th>timestamp</th>\n",
       "      <th>uid</th>\n",
       "      <th>campaign</th>\n",
       "      <th>conversion</th>\n",
       "      <th>conversion_timestamp</th>\n",
       "      <th>conversion_id</th>\n",
       "      <th>attribution</th>\n",
       "      <th>click</th>\n",
       "      <th>click_pos</th>\n",
       "      <th>click_nb</th>\n",
       "      <th>cost</th>\n",
       "      <th>cpo</th>\n",
       "      <th>time_since_last_click</th>\n",
       "    </tr>\n",
       "  </thead>\n",
       "  <tbody>\n",
       "    <tr>\n",
       "      <th>count</th>\n",
       "      <td>6.153050e+05</td>\n",
       "      <td>6.153050e+05</td>\n",
       "      <td>6.153050e+05</td>\n",
       "      <td>615305.0</td>\n",
       "      <td>6.153050e+05</td>\n",
       "      <td>6.153050e+05</td>\n",
       "      <td>615305.000000</td>\n",
       "      <td>615305.0</td>\n",
       "      <td>615305.000000</td>\n",
       "      <td>615305.000000</td>\n",
       "      <td>615305.000000</td>\n",
       "      <td>615305.000000</td>\n",
       "      <td>6.153050e+05</td>\n",
       "    </tr>\n",
       "    <tr>\n",
       "      <th>mean</th>\n",
       "      <td>1.329446e+06</td>\n",
       "      <td>1.620724e+07</td>\n",
       "      <td>1.729770e+07</td>\n",
       "      <td>1.0</td>\n",
       "      <td>1.964925e+06</td>\n",
       "      <td>1.621269e+07</td>\n",
       "      <td>0.565971</td>\n",
       "      <td>1.0</td>\n",
       "      <td>3.165110</td>\n",
       "      <td>7.326921</td>\n",
       "      <td>0.001195</td>\n",
       "      <td>0.108924</td>\n",
       "      <td>2.674005e+05</td>\n",
       "    </tr>\n",
       "    <tr>\n",
       "      <th>std</th>\n",
       "      <td>7.575506e+05</td>\n",
       "      <td>9.367422e+06</td>\n",
       "      <td>9.580193e+06</td>\n",
       "      <td>0.0</td>\n",
       "      <td>1.022225e+06</td>\n",
       "      <td>9.341587e+06</td>\n",
       "      <td>0.495629</td>\n",
       "      <td>0.0</td>\n",
       "      <td>6.759645</td>\n",
       "      <td>11.241195</td>\n",
       "      <td>0.002398</td>\n",
       "      <td>0.098341</td>\n",
       "      <td>4.371725e+05</td>\n",
       "    </tr>\n",
       "    <tr>\n",
       "      <th>min</th>\n",
       "      <td>3.000000e+00</td>\n",
       "      <td>6.560000e+02</td>\n",
       "      <td>7.332200e+04</td>\n",
       "      <td>1.0</td>\n",
       "      <td>1.540000e+02</td>\n",
       "      <td>1.980000e+02</td>\n",
       "      <td>0.000000</td>\n",
       "      <td>1.0</td>\n",
       "      <td>0.000000</td>\n",
       "      <td>1.000000</td>\n",
       "      <td>0.000010</td>\n",
       "      <td>0.004000</td>\n",
       "      <td>-1.000000e+00</td>\n",
       "    </tr>\n",
       "    <tr>\n",
       "      <th>25%</th>\n",
       "      <td>6.697400e+05</td>\n",
       "      <td>8.063225e+06</td>\n",
       "      <td>9.100693e+06</td>\n",
       "      <td>1.0</td>\n",
       "      <td>1.187478e+06</td>\n",
       "      <td>8.155253e+06</td>\n",
       "      <td>0.000000</td>\n",
       "      <td>1.0</td>\n",
       "      <td>0.000000</td>\n",
       "      <td>2.000000</td>\n",
       "      <td>0.000164</td>\n",
       "      <td>0.020761</td>\n",
       "      <td>5.170000e+02</td>\n",
       "    </tr>\n",
       "    <tr>\n",
       "      <th>50%</th>\n",
       "      <td>1.330724e+06</td>\n",
       "      <td>1.620867e+07</td>\n",
       "      <td>1.518451e+07</td>\n",
       "      <td>1.0</td>\n",
       "      <td>1.935696e+06</td>\n",
       "      <td>1.620644e+07</td>\n",
       "      <td>1.000000</td>\n",
       "      <td>1.0</td>\n",
       "      <td>1.000000</td>\n",
       "      <td>4.000000</td>\n",
       "      <td>0.000450</td>\n",
       "      <td>0.083530</td>\n",
       "      <td>8.287800e+04</td>\n",
       "    </tr>\n",
       "    <tr>\n",
       "      <th>75%</th>\n",
       "      <td>1.955258e+06</td>\n",
       "      <td>2.429762e+07</td>\n",
       "      <td>2.749144e+07</td>\n",
       "      <td>1.0</td>\n",
       "      <td>2.627995e+06</td>\n",
       "      <td>2.426364e+07</td>\n",
       "      <td>1.000000</td>\n",
       "      <td>1.0</td>\n",
       "      <td>3.000000</td>\n",
       "      <td>8.000000</td>\n",
       "      <td>0.001191</td>\n",
       "      <td>0.173787</td>\n",
       "      <td>3.380890e+05</td>\n",
       "    </tr>\n",
       "    <tr>\n",
       "      <th>max</th>\n",
       "      <td>2.671187e+06</td>\n",
       "      <td>3.245859e+07</td>\n",
       "      <td>3.245211e+07</td>\n",
       "      <td>1.0</td>\n",
       "      <td>5.251122e+06</td>\n",
       "      <td>3.245852e+07</td>\n",
       "      <td>1.000000</td>\n",
       "      <td>1.0</td>\n",
       "      <td>173.000000</td>\n",
       "      <td>174.000000</td>\n",
       "      <td>0.057756</td>\n",
       "      <td>0.998048</td>\n",
       "      <td>2.591880e+06</td>\n",
       "    </tr>\n",
       "  </tbody>\n",
       "</table>\n",
       "</div>"
      ],
      "text/plain": [
       "          timestamp           uid      campaign  conversion  \\\n",
       "count  6.153050e+05  6.153050e+05  6.153050e+05    615305.0   \n",
       "mean   1.329446e+06  1.620724e+07  1.729770e+07         1.0   \n",
       "std    7.575506e+05  9.367422e+06  9.580193e+06         0.0   \n",
       "min    3.000000e+00  6.560000e+02  7.332200e+04         1.0   \n",
       "25%    6.697400e+05  8.063225e+06  9.100693e+06         1.0   \n",
       "50%    1.330724e+06  1.620867e+07  1.518451e+07         1.0   \n",
       "75%    1.955258e+06  2.429762e+07  2.749144e+07         1.0   \n",
       "max    2.671187e+06  3.245859e+07  3.245211e+07         1.0   \n",
       "\n",
       "       conversion_timestamp  conversion_id    attribution     click  \\\n",
       "count          6.153050e+05   6.153050e+05  615305.000000  615305.0   \n",
       "mean           1.964925e+06   1.621269e+07       0.565971       1.0   \n",
       "std            1.022225e+06   9.341587e+06       0.495629       0.0   \n",
       "min            1.540000e+02   1.980000e+02       0.000000       1.0   \n",
       "25%            1.187478e+06   8.155253e+06       0.000000       1.0   \n",
       "50%            1.935696e+06   1.620644e+07       1.000000       1.0   \n",
       "75%            2.627995e+06   2.426364e+07       1.000000       1.0   \n",
       "max            5.251122e+06   3.245852e+07       1.000000       1.0   \n",
       "\n",
       "           click_pos       click_nb           cost            cpo  \\\n",
       "count  615305.000000  615305.000000  615305.000000  615305.000000   \n",
       "mean        3.165110       7.326921       0.001195       0.108924   \n",
       "std         6.759645      11.241195       0.002398       0.098341   \n",
       "min         0.000000       1.000000       0.000010       0.004000   \n",
       "25%         0.000000       2.000000       0.000164       0.020761   \n",
       "50%         1.000000       4.000000       0.000450       0.083530   \n",
       "75%         3.000000       8.000000       0.001191       0.173787   \n",
       "max       173.000000     174.000000       0.057756       0.998048   \n",
       "\n",
       "       time_since_last_click  \n",
       "count           6.153050e+05  \n",
       "mean            2.674005e+05  \n",
       "std             4.371725e+05  \n",
       "min            -1.000000e+00  \n",
       "25%             5.170000e+02  \n",
       "50%             8.287800e+04  \n",
       "75%             3.380890e+05  \n",
       "max             2.591880e+06  "
      ]
     },
     "execution_count": 19,
     "metadata": {},
     "output_type": "execute_result"
    }
   ],
   "source": [
    "df_subset.describe()"
   ]
  },
  {
   "cell_type": "markdown",
   "id": "22fd0b5f",
   "metadata": {},
   "source": [
    "## 4. Segmentation of the chain length"
   ]
  },
  {
   "cell_type": "code",
   "execution_count": 28,
   "id": "5ee0e8df",
   "metadata": {},
   "outputs": [],
   "source": [
    "chain_lengths = df_subset['uid'].value_counts()\n",
    "chain_segments = pd.cut(chain_lengths, bins=[3, 10, 25, 100, np.inf], labels=[\"short (2-3)\", \"medium (4-10)\", \"long (11-25)\", \"xl (25+)\"])\n",
    "df_subset['chain_segment'] = df_subset['uid'].map(chain_segments)"
   ]
  },
  {
   "cell_type": "code",
   "execution_count": 29,
   "id": "7ac91938",
   "metadata": {},
   "outputs": [
    {
     "name": "stderr",
     "output_type": "stream",
     "text": [
      "c:\\Users\\Maria\\Desktop\\ds_projects\\attribution\\.venv\\Lib\\site-packages\\seaborn\\categorical.py:641: FutureWarning: The default of observed=False is deprecated and will be changed to True in a future version of pandas. Pass observed=False to retain current behavior or observed=True to adopt the future default and silence this warning.\n",
      "  grouped_vals = vals.groupby(grouper)\n"
     ]
    },
    {
     "data": {
      "image/png": "[encoded data removed]",
      "text/plain": [
       "<Figure size 800x500 with 1 Axes>"
      ]
     },
     "metadata": {},
     "output_type": "display_data"
    }
   ],
   "source": [
    "# Häufigkeit je Kettensegment\n",
    "segment_counts = df_subset['chain_segment'].value_counts().sort_index()\n",
    "\n",
    "# Plot\n",
    "plt.figure(figsize=(8,5))\n",
    "sns.barplot(x=segment_counts.index, y=segment_counts.values, palette=\"viridis\")\n",
    "\n",
    "plt.title(\"Distribution of chain segments\", fontsize=14)\n",
    "plt.xlabel(\"Chain type\", fontsize=12)\n",
    "plt.ylabel(\"Number of users\", fontsize=12)\n",
    "plt.show()"
   ]
  },
  {
   "cell_type": "markdown",
   "id": "ffce6b7f",
   "metadata": {},
   "source": [
    "## 5. Making sure, that the considered contacts in the customer journey are before the conversion"
   ]
  },
  {
   "cell_type": "code",
   "execution_count": 38,
   "id": "4d9c4085",
   "metadata": {},
   "outputs": [],
   "source": [
    "# Highest conversion timestamp per user\n",
    "conversion_times = df_subset.groupby('uid')['conversion_timestamp'].max()\n",
    "\n",
    "# Creating a copy of the data subset\n",
    "df_subset_check_ts = df_subset.copy()\n",
    "\n",
    "# Mapping to the whole subset\n",
    "df_subset_check_ts['max_conversion_ts'] = df_subset_check_ts['uid'].map(conversion_times)\n",
    "\n",
    "# Flagging if conversion after the contact\n",
    "df_subset_check_ts['after_conversion'] = df_subset_check_ts['timestamp'] > df_subset_check_ts['max_conversion_ts']"
   ]
  },
  {
   "cell_type": "code",
   "execution_count": 40,
   "id": "820522ff",
   "metadata": {},
   "outputs": [
    {
     "data": {
      "text/plain": [
       "after_conversion\n",
       "False    615305\n",
       "Name: count, dtype: int64"
      ]
     },
     "execution_count": 40,
     "metadata": {},
     "output_type": "execute_result"
    }
   ],
   "source": [
    "df_subset_check_ts['after_conversion'].value_counts()"
   ]
  },
  {
   "cell_type": "markdown",
   "id": "819dcfcc",
   "metadata": {},
   "source": [
    "Conclusion: All contacts are before the respective conversions, so no need to exclude contacts from the data."
   ]
  },
  {
   "cell_type": "markdown",
   "id": "1a5fe1e8",
   "metadata": {},
   "source": [
    "## 5. Saving the subset of the data as csv"
   ]
  },
  {
   "cell_type": "code",
   "execution_count": 20,
   "id": "08a70255",
   "metadata": {},
   "outputs": [],
   "source": [
    "df_subset.to_csv('c:/Users/Maria/Desktop/ds_projects/attribution/data/processed/pcb_subset.csv', index=False)"
   ]
  }
 ],
 "metadata": {
  "kernelspec": {
   "display_name": ".venv",
   "language": "python",
   "name": "python3"
  },
  "language_info": {
   "codemirror_mode": {
    "name": "ipython",
    "version": 3
   },
   "file_extension": ".py",
   "mimetype": "text/x-python",
   "name": "python",
   "nbconvert_exporter": "python",
   "pygments_lexer": "ipython3",
   "version": "3.11.3"
  }
 },
 "nbformat": 4,
 "nbformat_minor": 5
}

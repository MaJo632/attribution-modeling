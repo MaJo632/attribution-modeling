{
 "cells": [
  {
   "attachments": {},
   "cell_type": "markdown",
   "id": "2e49cd26",
   "metadata": {},
   "source": [
    "# Multitouch Attribution Modeling (EDA)"
   ]
  },
  {
   "cell_type": "markdown",
   "id": "38a0e796",
   "metadata": {},
   "source": [
    "## 1. Goal of the project\n",
    "\n",
    "The goal of this multi-touch attribution modelling is to understand the impact of each touchpoint in the customer journey with various digital online channels."
   ]
  },
  {
   "cell_type": "markdown",
   "id": "1f1d3e9f",
   "metadata": {},
   "source": [
    "## 2. Overview data\n",
    "This notebook analyses the data retrieved from [Kaggle](https://www.kaggle.com/datasets/vivekparasharr/multi-touch-attribution/data). \n",
    "\n",
    "The dataset contains 10,000 rows of marketing interaction data, designed to support multi-touch attribution (MTA) analysis. It records user interactions with various marketing channels and campaigns over a two-day period (February 10-11, 2025), along with conversion outcomes.\n",
    "\n",
    "Columns of the dataset:\n",
    "\n",
    "| Column name | Description |\n",
    "| --- | ----------- |\n",
    "| User ID | A unique identifier for each customer.|\n",
    "| Timestamp | The exact date and time of the interaction.|\n",
    "| Channel | The marketing channel where the interaction occurred.|\n",
    "| Campaign | The specific marketing campaign associated with the interaction. ‘-’ indicates no campaign.|\n",
    "| Conversion | Indicates whether the user converted (Yes) or not (No). |\n",
    "\n",
    "Key Insights:  \n",
    "• Unique Users: 2,847  \n",
    "• Most Frequent Channel: Direct Traffic (~17.2%)  \n",
    "• Campaign Involvement: 31.3% of interactions had no campaign assigned.  \n",
    "• Conversion Rate: 49.44% of interactions resulted in a conversion.  "
   ]
  },
  {
   "cell_type": "code",
   "execution_count": 6,
   "id": "1811acbe",
   "metadata": {},
   "outputs": [],
   "source": [
    "# import the necessary libraries\n",
    "import pandas as pd\n",
    "import matplotlib.pyplot as plt\n",
    "import seaborn as sns\n",
    "import numpy as np\n",
    "from sklearn.preprocessing import OneHotEncoder\n",
    "from marketing_attribution_models import *"
   ]
  },
  {
   "cell_type": "code",
   "execution_count": 8,
   "id": "45cc4aef",
   "metadata": {},
   "outputs": [
    {
     "data": {
      "text/html": [
       "<div>\n",
       "<style scoped>\n",
       "    .dataframe tbody tr th:only-of-type {\n",
       "        vertical-align: middle;\n",
       "    }\n",
       "\n",
       "    .dataframe tbody tr th {\n",
       "        vertical-align: top;\n",
       "    }\n",
       "\n",
       "    .dataframe thead th {\n",
       "        text-align: right;\n",
       "    }\n",
       "</style>\n",
       "<table border=\"1\" class=\"dataframe\">\n",
       "  <thead>\n",
       "    <tr style=\"text-align: right;\">\n",
       "      <th></th>\n",
       "      <th>User ID</th>\n",
       "      <th>Timestamp</th>\n",
       "      <th>Channel</th>\n",
       "      <th>Campaign</th>\n",
       "      <th>Conversion</th>\n",
       "    </tr>\n",
       "  </thead>\n",
       "  <tbody>\n",
       "    <tr>\n",
       "      <th>0</th>\n",
       "      <td>83281</td>\n",
       "      <td>2025-02-10 07:58:51</td>\n",
       "      <td>Email</td>\n",
       "      <td>New Product Launch</td>\n",
       "      <td>No</td>\n",
       "    </tr>\n",
       "    <tr>\n",
       "      <th>1</th>\n",
       "      <td>68071</td>\n",
       "      <td>2025-02-10 23:38:48</td>\n",
       "      <td>Search Ads</td>\n",
       "      <td>Winter Sale</td>\n",
       "      <td>No</td>\n",
       "    </tr>\n",
       "    <tr>\n",
       "      <th>2</th>\n",
       "      <td>90131</td>\n",
       "      <td>2025-02-11 10:41:07</td>\n",
       "      <td>Social Media</td>\n",
       "      <td>Brand Awareness</td>\n",
       "      <td>Yes</td>\n",
       "    </tr>\n",
       "    <tr>\n",
       "      <th>3</th>\n",
       "      <td>71026</td>\n",
       "      <td>2025-02-10 08:19:44</td>\n",
       "      <td>Direct Traffic</td>\n",
       "      <td>-</td>\n",
       "      <td>Yes</td>\n",
       "    </tr>\n",
       "    <tr>\n",
       "      <th>4</th>\n",
       "      <td>94486</td>\n",
       "      <td>2025-02-10 15:15:46</td>\n",
       "      <td>Email</td>\n",
       "      <td>Retargeting</td>\n",
       "      <td>Yes</td>\n",
       "    </tr>\n",
       "  </tbody>\n",
       "</table>\n",
       "</div>"
      ],
      "text/plain": [
       "   User ID            Timestamp         Channel            Campaign Conversion\n",
       "0    83281  2025-02-10 07:58:51           Email  New Product Launch         No\n",
       "1    68071  2025-02-10 23:38:48      Search Ads         Winter Sale         No\n",
       "2    90131  2025-02-11 10:41:07    Social Media     Brand Awareness        Yes\n",
       "3    71026  2025-02-10 08:19:44  Direct Traffic                   -        Yes\n",
       "4    94486  2025-02-10 15:15:46           Email         Retargeting        Yes"
      ]
     },
     "execution_count": 8,
     "metadata": {},
     "output_type": "execute_result"
    }
   ],
   "source": [
    "# read in csv file and display first 5 rows of the datset\n",
    "df = pd.read_csv(\"c:/Users/Maria/Desktop/ds_projects/attribution/data/raw/multi_touch_attribution_data.csv\")\n",
    "df.head()"
   ]
  },
  {
   "cell_type": "code",
   "execution_count": 10,
   "id": "af5da427",
   "metadata": {},
   "outputs": [
    {
     "data": {
      "text/plain": [
       "(10000, 5)"
      ]
     },
     "execution_count": 10,
     "metadata": {},
     "output_type": "execute_result"
    }
   ],
   "source": [
    "# Shape of the dataset\n",
    "df.shape"
   ]
  },
  {
   "cell_type": "code",
   "execution_count": 11,
   "id": "05d19aff",
   "metadata": {},
   "outputs": [
    {
     "name": "stdout",
     "output_type": "stream",
     "text": [
      "<class 'pandas.core.frame.DataFrame'>\n",
      "RangeIndex: 10000 entries, 0 to 9999\n",
      "Data columns (total 5 columns):\n",
      " #   Column      Non-Null Count  Dtype \n",
      "---  ------      --------------  ----- \n",
      " 0   User ID     10000 non-null  int64 \n",
      " 1   Timestamp   10000 non-null  object\n",
      " 2   Channel     10000 non-null  object\n",
      " 3   Campaign    10000 non-null  object\n",
      " 4   Conversion  10000 non-null  object\n",
      "dtypes: int64(1), object(4)\n",
      "memory usage: 390.8+ KB\n"
     ]
    }
   ],
   "source": [
    "# Check out our data-types\n",
    "df.info()"
   ]
  },
  {
   "cell_type": "code",
   "execution_count": 13,
   "id": "d3d32bbe",
   "metadata": {},
   "outputs": [],
   "source": [
    "# Changing the type of the column Timestamp to a datetime format\n",
    "df['Timestamp'] = pd.to_datetime(df['Timestamp'])"
   ]
  },
  {
   "cell_type": "code",
   "execution_count": 15,
   "id": "eb827143",
   "metadata": {},
   "outputs": [],
   "source": [
    "# Changing the column Conversion to a Boolean format\n",
    "df['Conversion'] = df['Conversion'].map({'Yes': 1, 'No': 0})"
   ]
  },
  {
   "cell_type": "code",
   "execution_count": 17,
   "id": "2f8c3eae",
   "metadata": {},
   "outputs": [],
   "source": [
    "# Renaming the columns:\n",
    "df = df.rename(columns={\n",
    "    'User ID': 'customer_id',\n",
    "    'Timestamp': 'event_date',\n",
    "    'Channel': 'channel_name',\n",
    "    'Campaign': 'campaign',\n",
    "    'Conversion': 'conversion'\n",
    "})"
   ]
  },
  {
   "cell_type": "code",
   "execution_count": 18,
   "id": "a4b78447",
   "metadata": {},
   "outputs": [
    {
     "data": {
      "text/plain": [
       "customer_id     0\n",
       "event_date      0\n",
       "channel_name    0\n",
       "campaign        0\n",
       "conversion      0\n",
       "dtype: int64"
      ]
     },
     "execution_count": 18,
     "metadata": {},
     "output_type": "execute_result"
    }
   ],
   "source": [
    "# Checking for missing values\n",
    "df.isnull().sum()"
   ]
  },
  {
   "cell_type": "code",
   "execution_count": 19,
   "id": "4ee72f81",
   "metadata": {},
   "outputs": [
    {
     "name": "stdout",
     "output_type": "stream",
     "text": [
      "There are 2847 unique user ids in the dataset.\n"
     ]
    }
   ],
   "source": [
    "# Checking the number of unique user ids in the whole dataset:\n",
    "unique_uids=df['customer_id'].unique()\n",
    "print(f\"There are {len(unique_uids)} unique user ids in the dataset.\")"
   ]
  },
  {
   "cell_type": "code",
   "execution_count": 23,
   "id": "b7e8a89d",
   "metadata": {},
   "outputs": [
    {
     "data": {
      "image/png": "[encoded data removed]",
      "text/plain": [
       "<Figure size 1000x600 with 1 Axes>"
      ]
     },
     "metadata": {},
     "output_type": "display_data"
    }
   ],
   "source": [
    "conversion_counts = df['conversion'].value_counts()\n",
    "\n",
    "plt.figure(figsize=(10,6))\n",
    "sns.barplot(x=conversion_counts.index, y=conversion_counts.values, palette=\"viridis\")\n",
    "plt.title(\"Distribution of conversions\", fontsize=14)\n",
    "plt.xlabel(\"Conversions (0: No, 1: Yes)\", fontsize=12)\n",
    "plt.ylabel(\"Count\", fontsize=12)\n",
    "plt.show()"
   ]
  },
  {
   "cell_type": "markdown",
   "id": "68474dab",
   "metadata": {},
   "source": [
    "For the modeling, it is important to have at least two contacts in order to evaluate different attribution models. So, we analyze the data with regards to the chain length within the customer journey that led to a conversion."
   ]
  },
  {
   "cell_type": "code",
   "execution_count": null,
   "id": "1228882f",
   "metadata": {},
   "outputs": [
    {
     "data": {
      "image/png": "[encoded data removed]",
      "text/plain": [
       "<Figure size 2000x600 with 1 Axes>"
      ]
     },
     "metadata": {},
     "output_type": "display_data"
    }
   ],
   "source": [
    "df_conversions = df[df['conversion']==1].copy()\n",
    "\n",
    "chain_lengths = df_conversions['customer_id'].value_counts()\n",
    "length_distribution = chain_lengths.value_counts().sort_index()\n",
    "\n",
    "plt.figure(figsize=(20,6))\n",
    "sns.barplot(x = length_distribution.index, y = length_distribution.values, palette=\"viridis\")\n",
    "\n",
    "plt.title(\"Distribution of chain length resulting in conversions\", fontsize = 14)\n",
    "plt.xlabel(\"Chain length (number of impressions per user)\", fontsize = 12)\n",
    "plt.ylabel(\"Number of users\", fontsize = 12)\n",
    "\n",
    "plt.show()"
   ]
  },
  {
   "cell_type": "markdown",
   "id": "3d7bbbee",
   "metadata": {},
   "source": [
    "The graph shows, that most of the chains have only one contact, so we are reducing the dataset to those customer journeys which had a conversion and at least two impressions in the chain."
   ]
  },
  {
   "cell_type": "markdown",
   "id": "4eed7614",
   "metadata": {},
   "source": [
    "## 6. Creating a DataFrame for the DP6 Attribution Package\n",
    "\n",
    "With the help of the DP6 attribution package, we can use simple heuristic models as a starting point.\n",
    "\n",
    "The data frame has to contain the following columns: user_id, event_date (timestamp of contact), channel and conversion."
   ]
  },
  {
   "cell_type": "code",
   "execution_count": null,
   "id": "bab9c572",
   "metadata": {},
   "outputs": [],
   "source": []
  },
  {
   "cell_type": "markdown",
   "id": "1a5fe1e8",
   "metadata": {},
   "source": [
    "## 7. Saving the subset of the data as csv"
   ]
  },
  {
   "cell_type": "code",
   "execution_count": null,
   "id": "08a70255",
   "metadata": {},
   "outputs": [],
   "source": [
    "df_subset.to_csv('c:/Users/Maria/Desktop/ds_projects/attribution/data/processed/pcb_subset.csv', index=False)"
   ]
  }
 ],
 "metadata": {
  "kernelspec": {
   "display_name": ".venv",
   "language": "python",
   "name": "python3"
  },
  "language_info": {
   "codemirror_mode": {
    "name": "ipython",
    "version": 3
   },
   "file_extension": ".py",
   "mimetype": "text/x-python",
   "name": "python",
   "nbconvert_exporter": "python",
   "pygments_lexer": "ipython3",
   "version": "3.11.3"
  }
 },
 "nbformat": 4,
 "nbformat_minor": 5
}

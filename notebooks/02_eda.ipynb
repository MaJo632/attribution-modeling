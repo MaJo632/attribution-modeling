{
 "cells": [
  {
   "attachments": {},
   "cell_type": "markdown",
   "id": "2e49cd26",
   "metadata": {},
   "source": [
    "# Criteo Attribution Modeling for Bidding (EDA on data subset)"
   ]
  },
  {
   "cell_type": "markdown",
   "id": "1f1d3e9f",
   "metadata": {},
   "source": [
    "## 1. Overview data\n",
    "Columns of the data subset:\n",
    "\n",
    "| Column name | Description |\n",
    "| --- | ----------- |\n",
    "| timestamp | Timestamp of the impression (starting from 0 for the first impression). The dataset is sorted according to timestamp.|\n",
    "| uid | Unique user identifier|\n",
    "| campaign | Unique identifier for the campaign|\n",
    "| conversion 1 | If there was a conversion in the 30 days after the impression (independently of whether this impression was last click or not)|\n",
    "| conversion_timestamp | The timestamp of the conversion or -1 if no conversion was observed conversion_id a unique identifier for each conversion (so that timelines can be reconstructed if needed). -1 if there was no conversion |\n",
    "| attribution 1 | If the conversion was attributed to Criteo, 0 otherwise |\n",
    "| click 1 | If the impression was clicked, 0 otherwise |\n",
    "| click_nb | Number of clicks. More than 1 if there was several clicks before a conversion |\n",
    "| time_since_last_click | The time since the last click (in s) for the given impression |"
   ]
  },
  {
   "cell_type": "code",
   "execution_count": 1,
   "id": "1811acbe",
   "metadata": {},
   "outputs": [],
   "source": [
    "# import the necessary libraries\n",
    "import pandas as pd\n",
    "import matplotlib.pyplot as plt\n",
    "import seaborn as sns\n",
    "import numpy as np"
   ]
  },
  {
   "cell_type": "code",
   "execution_count": 2,
   "id": "01979d81",
   "metadata": {},
   "outputs": [],
   "source": [
    "# Floats (decimal numbers) should be displayed rounded with 2 decimal places\n",
    "pd.options.display.float_format = \"{:,.2f}\".format\n",
    "# Set style for plots\n",
    "sns.set_theme(style=\"whitegrid\")\n",
    "plt.style.use('fivethirtyeight')"
   ]
  },
  {
   "cell_type": "code",
   "execution_count": 3,
   "id": "45cc4aef",
   "metadata": {},
   "outputs": [
    {
     "data": {
      "text/html": [
       "<div>\n",
       "<style scoped>\n",
       "    .dataframe tbody tr th:only-of-type {\n",
       "        vertical-align: middle;\n",
       "    }\n",
       "\n",
       "    .dataframe tbody tr th {\n",
       "        vertical-align: top;\n",
       "    }\n",
       "\n",
       "    .dataframe thead th {\n",
       "        text-align: right;\n",
       "    }\n",
       "</style>\n",
       "<table border=\"1\" class=\"dataframe\">\n",
       "  <thead>\n",
       "    <tr style=\"text-align: right;\">\n",
       "      <th></th>\n",
       "      <th>timestamp</th>\n",
       "      <th>uid</th>\n",
       "      <th>campaign</th>\n",
       "      <th>conversion</th>\n",
       "      <th>conversion_timestamp</th>\n",
       "      <th>conversion_id</th>\n",
       "      <th>attribution</th>\n",
       "      <th>click</th>\n",
       "      <th>click_pos</th>\n",
       "      <th>click_nb</th>\n",
       "      <th>cost</th>\n",
       "      <th>cpo</th>\n",
       "      <th>time_since_last_click</th>\n",
       "      <th>chain_segment</th>\n",
       "      <th>max_conversion_ts</th>\n",
       "      <th>after_conversion</th>\n",
       "    </tr>\n",
       "  </thead>\n",
       "  <tbody>\n",
       "    <tr>\n",
       "      <th>0</th>\n",
       "      <td>3</td>\n",
       "      <td>7306395</td>\n",
       "      <td>29427842</td>\n",
       "      <td>1</td>\n",
       "      <td>1449193</td>\n",
       "      <td>3063962</td>\n",
       "      <td>0</td>\n",
       "      <td>1</td>\n",
       "      <td>0</td>\n",
       "      <td>7</td>\n",
       "      <td>0.00</td>\n",
       "      <td>0.15</td>\n",
       "      <td>-1</td>\n",
       "      <td>short (2-3)</td>\n",
       "      <td>3673484</td>\n",
       "      <td>False</td>\n",
       "    </tr>\n",
       "    <tr>\n",
       "      <th>1</th>\n",
       "      <td>17</td>\n",
       "      <td>15394453</td>\n",
       "      <td>9100693</td>\n",
       "      <td>1</td>\n",
       "      <td>154</td>\n",
       "      <td>24795488</td>\n",
       "      <td>1</td>\n",
       "      <td>1</td>\n",
       "      <td>0</td>\n",
       "      <td>1</td>\n",
       "      <td>0.00</td>\n",
       "      <td>0.00</td>\n",
       "      <td>583864</td>\n",
       "      <td>short (2-3)</td>\n",
       "      <td>1834922</td>\n",
       "      <td>False</td>\n",
       "    </tr>\n",
       "    <tr>\n",
       "      <th>2</th>\n",
       "      <td>25</td>\n",
       "      <td>6013772</td>\n",
       "      <td>15184511</td>\n",
       "      <td>1</td>\n",
       "      <td>138469</td>\n",
       "      <td>15587012</td>\n",
       "      <td>0</td>\n",
       "      <td>1</td>\n",
       "      <td>1</td>\n",
       "      <td>6</td>\n",
       "      <td>0.00</td>\n",
       "      <td>0.01</td>\n",
       "      <td>536</td>\n",
       "      <td>short (2-3)</td>\n",
       "      <td>1147525</td>\n",
       "      <td>False</td>\n",
       "    </tr>\n",
       "    <tr>\n",
       "      <th>3</th>\n",
       "      <td>30</td>\n",
       "      <td>9451380</td>\n",
       "      <td>17321082</td>\n",
       "      <td>1</td>\n",
       "      <td>355909</td>\n",
       "      <td>4136014</td>\n",
       "      <td>0</td>\n",
       "      <td>1</td>\n",
       "      <td>1</td>\n",
       "      <td>3</td>\n",
       "      <td>0.00</td>\n",
       "      <td>0.32</td>\n",
       "      <td>363648</td>\n",
       "      <td>NaN</td>\n",
       "      <td>355909</td>\n",
       "      <td>False</td>\n",
       "    </tr>\n",
       "    <tr>\n",
       "      <th>4</th>\n",
       "      <td>93</td>\n",
       "      <td>2380977</td>\n",
       "      <td>32368244</td>\n",
       "      <td>1</td>\n",
       "      <td>1471679</td>\n",
       "      <td>28647208</td>\n",
       "      <td>0</td>\n",
       "      <td>1</td>\n",
       "      <td>5</td>\n",
       "      <td>8</td>\n",
       "      <td>0.00</td>\n",
       "      <td>0.02</td>\n",
       "      <td>145936</td>\n",
       "      <td>short (2-3)</td>\n",
       "      <td>2927501</td>\n",
       "      <td>False</td>\n",
       "    </tr>\n",
       "  </tbody>\n",
       "</table>\n",
       "</div>"
      ],
      "text/plain": [
       "   timestamp       uid  campaign  conversion  conversion_timestamp  \\\n",
       "0          3   7306395  29427842           1               1449193   \n",
       "1         17  15394453   9100693           1                   154   \n",
       "2         25   6013772  15184511           1                138469   \n",
       "3         30   9451380  17321082           1                355909   \n",
       "4         93   2380977  32368244           1               1471679   \n",
       "\n",
       "   conversion_id  attribution  click  click_pos  click_nb  cost  cpo  \\\n",
       "0        3063962            0      1          0         7  0.00 0.15   \n",
       "1       24795488            1      1          0         1  0.00 0.00   \n",
       "2       15587012            0      1          1         6  0.00 0.01   \n",
       "3        4136014            0      1          1         3  0.00 0.32   \n",
       "4       28647208            0      1          5         8  0.00 0.02   \n",
       "\n",
       "   time_since_last_click chain_segment  max_conversion_ts  after_conversion  \n",
       "0                     -1   short (2-3)            3673484             False  \n",
       "1                 583864   short (2-3)            1834922             False  \n",
       "2                    536   short (2-3)            1147525             False  \n",
       "3                 363648           NaN             355909             False  \n",
       "4                 145936   short (2-3)            2927501             False  "
      ]
     },
     "execution_count": 3,
     "metadata": {},
     "output_type": "execute_result"
    }
   ],
   "source": [
    "# read in csv file and display first 5 rows of the datset\n",
    "df_subset = pd.read_csv(\"c:/Users/Maria/Desktop/ds_projects/attribution/data/processed/pcb_subset.csv\")\n",
    "df_subset.head()"
   ]
  },
  {
   "cell_type": "code",
   "execution_count": 4,
   "id": "07921ff1",
   "metadata": {},
   "outputs": [
    {
     "data": {
      "text/plain": [
       "uid\n",
       "26251261    261\n",
       "5872835     259\n",
       "3620513     241\n",
       "28610810    221\n",
       "9164309     187\n",
       "           ... \n",
       "15594434      2\n",
       "30860759      2\n",
       "1109830       2\n",
       "29964671      2\n",
       "3297131       2\n",
       "Name: count, Length: 136969, dtype: int64"
      ]
     },
     "execution_count": 4,
     "metadata": {},
     "output_type": "execute_result"
    }
   ],
   "source": [
    "df_subset['uid'].value_counts()"
   ]
  },
  {
   "cell_type": "code",
   "execution_count": 5,
   "id": "0ba045c7",
   "metadata": {},
   "outputs": [
    {
     "data": {
      "text/plain": [
       "uid\n",
       "26251261    261\n",
       "5872835     259\n",
       "3620513     241\n",
       "28610810    221\n",
       "9164309     187\n",
       "           ... \n",
       "15594434      2\n",
       "30860759      2\n",
       "1109830       2\n",
       "29964671      2\n",
       "3297131       2\n",
       "Name: count, Length: 136969, dtype: int64"
      ]
     },
     "execution_count": 5,
     "metadata": {},
     "output_type": "execute_result"
    }
   ],
   "source": [
    "df_subset['uid'].value_counts()"
   ]
  },
  {
   "cell_type": "code",
   "execution_count": 7,
   "id": "e8dc835e",
   "metadata": {},
   "outputs": [
    {
     "data": {
      "image/png": "[encoded data removed]",
      "text/plain": [
       "<Figure size 2000x600 with 1 Axes>"
      ]
     },
     "metadata": {},
     "output_type": "display_data"
    }
   ],
   "source": [
    "chain_lengths = df_subset['uid'].value_counts()\n",
    "length_distribution = chain_lengths.value_counts().sort_index()\n",
    "\n",
    "plt.figure(figsize=(20,6))\n",
    "sns.barplot(x = length_distribution.index, y = length_distribution.values, palette=\"viridis\")\n",
    "\n",
    "plt.title(\"Distribution of chain length\", fontsize = 14)\n",
    "plt.xlabel(\"Chain length (number of impressions per user)\", fontsize = 12)\n",
    "plt.ylabel(\"Number of users\", fontsize = 12)\n",
    "\n",
    "plt.show()"
   ]
  }
 ],
 "metadata": {
  "kernelspec": {
   "display_name": ".venv",
   "language": "python",
   "name": "python3"
  },
  "language_info": {
   "codemirror_mode": {
    "name": "ipython",
    "version": 3
   },
   "file_extension": ".py",
   "mimetype": "text/x-python",
   "name": "python",
   "nbconvert_exporter": "python",
   "pygments_lexer": "ipython3",
   "version": "3.11.3"
  }
 },
 "nbformat": 4,
 "nbformat_minor": 5
}
